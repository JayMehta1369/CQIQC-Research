{
  "nbformat": 4,
  "nbformat_minor": 0,
  "metadata": {
    "colab": {
      "provenance": []
    },
    "kernelspec": {
      "name": "python3",
      "display_name": "Python 3"
    },
    "language_info": {
      "name": "python"
    }
  },
  "cells": [
    {
      "cell_type": "code",
      "execution_count": null,
      "metadata": {
        "id": "nXOmEKRrvW23",
        "colab": {
          "base_uri": "https://localhost:8080/"
        },
        "outputId": "74edc2e3-5804-4e53-f288-0988bc512790"
      },
      "outputs": [
        {
          "output_type": "stream",
          "name": "stderr",
          "text": [
            "/usr/local/lib/python3.7/dist-packages/jax/experimental/optimizers.py:30: FutureWarning: jax.experimental.optimizers is deprecated, import jax.example_libraries.optimizers instead\n",
            "  FutureWarning)\n"
          ]
        }
      ],
      "source": [
        "import jax\n",
        "from jax.config import config\n",
        "config.update(\"jax_enable_x64\", True)\n",
        "\n",
        "import jax.numpy as jnp\n",
        "from jax.experimental.ode import odeint\n",
        "from jax import value_and_grad\n",
        "from jax.experimental import optimizers\n",
        "from jax import jit, vmap\n",
        "\n",
        "import numpy as np\n",
        "import matplotlib.pyplot as plt\n",
        "from scipy.integrate import solve_ivp\n",
        "\n",
        "import sys, getopt\n",
        "\n",
        "# general \n",
        "INFTY = 100\n",
        "integration_pts = 400001"
      ]
    },
    {
      "cell_type": "code",
      "source": [
        "@jit\n",
        "def f_FD(eps,f_params): # (mu, beta)\n",
        "    mu = f_params[0]\n",
        "    beta = f_params[1]\n",
        "    \n",
        "    return (1 + jnp.exp(beta*(eps-mu)))**-1\n",
        "\n",
        "@jit\n",
        "def T2(eps,T2_params): # T2_params: [gamma_L, gamma_R, eps_L, eps_R, omega] (reasonably, [0.05,0.05,4,4,10])\n",
        "\n",
        "    gamma_L = T2_params[0]\n",
        "    gamma_R = T2_params[1]\n",
        "    eps_L = T2_params[2]\n",
        "    eps_R = T2_params[3]\n",
        "    omega = T2_params[4]\n",
        "    a = eps - eps_L\n",
        "    b = gamma_L/2\n",
        "    c = eps - eps_R\n",
        "    d = gamma_R/2\n",
        "\n",
        "    return (((gamma_L)*(gamma_R)*(omega**2))/(((a*c - b*d - (omega**2))**2) + ((a*d + b*c)**2))) "
      ],
      "metadata": {
        "id": "mPKP2fEedGjq"
      },
      "execution_count": null,
      "outputs": []
    },
    {
      "cell_type": "code",
      "source": [
        "v_f_FD = vmap(f_FD,(0,None))\n",
        "# v_T = vmap(T,(0,None))\n",
        "v_T2 = vmap(T2,(0,None)) "
      ],
      "metadata": {
        "id": "iuHxekymdLa1"
      },
      "execution_count": null,
      "outputs": []
    },
    {
      "cell_type": "code",
      "source": [
        "gamma_L = 0.05\n",
        "gamma_R = 0.05\n",
        "\n",
        "eps_L = 0.2\n",
        "eps_R = 0.\n",
        "\n",
        "omega = 0.05\n",
        "\n",
        "H  = jnp.zeros((2,2))\n",
        "gaL = jnp.zeros((2,2))\n",
        "gaR = jnp.zeros((2,2))"
      ],
      "metadata": {
        "id": "IccCuE8qvnnN"
      },
      "execution_count": null,
      "outputs": []
    },
    {
      "cell_type": "code",
      "source": [
        "gaL = gaL.at[0,0].set(gamma_L)\n",
        "gaR = gaR.at[1,1].set(gamma_R)\n",
        "\n",
        "# gaL[0][0] = gamma_L\n",
        "# gaR[1][1] = gamma_R\n",
        "\n",
        "print(gaL,\"\\n\\n\",gaR)\n",
        "print(gaL.shape)\n",
        "\n",
        "gaL_prime = jnp.reshape(gaL,(1,2,2))\n",
        "print(\"\\n\",gaL_prime)\n",
        "\n",
        "z = jnp.repeat(gaL_prime, 5, axis=0)\n",
        "print(\"\\nLook below:\\n\",\"\\n\",z)\n",
        "print(z.shape)\n"
      ],
      "metadata": {
        "colab": {
          "base_uri": "https://localhost:8080/"
        },
        "id": "s3jkmI7XuvFF",
        "outputId": "12a72d4a-2f9f-4f6f-8003-0673cca361cb"
      },
      "execution_count": null,
      "outputs": [
        {
          "output_type": "stream",
          "name": "stdout",
          "text": [
            "[[0.05 0.  ]\n",
            " [0.   0.  ]] \n",
            "\n",
            " [[0.   0.  ]\n",
            " [0.   0.05]]\n",
            "(2, 2)\n",
            "\n",
            " [[[0.05 0.  ]\n",
            "  [0.   0.  ]]]\n",
            "\n",
            "Look below:\n",
            " \n",
            " [[[0.05 0.  ]\n",
            "  [0.   0.  ]]\n",
            "\n",
            " [[0.05 0.  ]\n",
            "  [0.   0.  ]]\n",
            "\n",
            " [[0.05 0.  ]\n",
            "  [0.   0.  ]]\n",
            "\n",
            " [[0.05 0.  ]\n",
            "  [0.   0.  ]]\n",
            "\n",
            " [[0.05 0.  ]\n",
            "  [0.   0.  ]]]\n",
            "(5, 2, 2)\n"
          ]
        }
      ]
    },
    {
      "cell_type": "code",
      "source": [
        "H = H.at[0,0].set(eps_L)\n",
        "H = H.at[1,1].set(eps_R)\n",
        "H = H.at[0,1].set(omega)\n",
        "H = H.at[1,0].set(omega)\n",
        "\n",
        "# H[0][0] = eps_L\n",
        "# H[1][1] = eps_R\n",
        "# H[0][1] = omega\n",
        "# H[1][0] = omega\n",
        "\n",
        "print(H)\n",
        "\n",
        "(w,v) = jnp.linalg.eigh(H)\n",
        "\n",
        "print(\"\\nEigenvalues are:\\n\\n\",w)\n",
        "print(\"\\nEigenvectors are:\\n\\n\",v)"
      ],
      "metadata": {
        "colab": {
          "base_uri": "https://localhost:8080/"
        },
        "id": "VG4u8nAouvgt",
        "outputId": "ba27d56b-de4a-408f-e94d-c345aeafb6f3"
      },
      "execution_count": null,
      "outputs": [
        {
          "output_type": "stream",
          "name": "stdout",
          "text": [
            "[[0.2  0.05]\n",
            " [0.05 0.  ]]\n",
            "\n",
            "Eigenvalues are:\n",
            "\n",
            " [-0.0118034  0.2118034]\n",
            "\n",
            "Eigenvectors are:\n",
            "\n",
            " [[ 0.22975292 -0.97324899]\n",
            " [-0.97324899 -0.22975292]]\n"
          ]
        }
      ]
    },
    {
      "cell_type": "code",
      "source": [
        "X = jnp.zeros((2,2))\n",
        "\n",
        "X = X.at[0,0].set(w[0])\n",
        "X = X.at[1,1].set(w[1])\n",
        "X = X.at[0,1].set(0.)\n",
        "X = X.at[1,0].set(0.)\n",
        "\n",
        "V1 = jnp.zeros((2,2))\n",
        "V2 = jnp.zeros((2,2))\n",
        "\n",
        "V1 = v\n",
        "V2 = jnp.transpose(jnp.conjugate(V1)) \n",
        "\n",
        "print(X,\"\\n\\n\",V1,\"\\n\\n\",V2) \n",
        "\n",
        "tilda = jnp.matmul(X,V2)\n",
        "print(\"\\nTadaaa:\\n\\n\",jnp.matmul(V1,tilda))"
      ],
      "metadata": {
        "colab": {
          "base_uri": "https://localhost:8080/"
        },
        "id": "1XJIDnZDpbVg",
        "outputId": "25d2e31f-9309-43e7-c038-5653d9a58daf"
      },
      "execution_count": null,
      "outputs": [
        {
          "output_type": "stream",
          "name": "stdout",
          "text": [
            "[[-0.0118034  0.       ]\n",
            " [ 0.         0.2118034]] \n",
            "\n",
            " [[ 0.22975292 -0.97324899]\n",
            " [-0.97324899 -0.22975292]] \n",
            "\n",
            " [[ 0.22975292 -0.97324899]\n",
            " [-0.97324899 -0.22975292]]\n",
            "\n",
            "Tadaaa:\n",
            "\n",
            " [[2.00000000e-01 5.00000000e-02]\n",
            " [5.00000000e-02 6.69361722e-20]]\n"
          ]
        }
      ]
    },
    {
      "cell_type": "code",
      "source": [
        "zz = jnp.reshape(H,(1,2,2))\n",
        "zz = jnp.repeat(zz, 5, axis=0)\n",
        "\n",
        "print(\"\\n\",zz)\n",
        "\n",
        "tt = jnp.linalg.inv(H)\n",
        "tt1 = np.matrix(tt).H\n",
        "tt2 = jnp.asarray(tt1)\n",
        "print(\"\\nOver here:\\n\\n\",tt1,type(tt1))\n",
        "print(\"\\n\",tt2,type(tt2))"
      ],
      "metadata": {
        "colab": {
          "base_uri": "https://localhost:8080/"
        },
        "id": "bFbrsA57n-uG",
        "outputId": "9bfd357f-bbfd-44cf-9972-e148b89a8a22"
      },
      "execution_count": null,
      "outputs": [
        {
          "output_type": "stream",
          "name": "stdout",
          "text": [
            "\n",
            " [[[0.    0.005]\n",
            "  [0.005 0.   ]]\n",
            "\n",
            " [[0.    0.005]\n",
            "  [0.005 0.   ]]\n",
            "\n",
            " [[0.    0.005]\n",
            "  [0.005 0.   ]]\n",
            "\n",
            " [[0.    0.005]\n",
            "  [0.005 0.   ]]\n",
            "\n",
            " [[0.    0.005]\n",
            "  [0.005 0.   ]]]\n",
            "\n",
            "Over here:\n",
            "\n",
            " [[  0. 200.]\n",
            " [200.   0.]] <class 'numpy.matrix'>\n",
            "\n",
            " [[  0. 200.]\n",
            " [200.   0.]] <class 'jaxlib.xla_extension.DeviceArray'>\n"
          ]
        }
      ]
    },
    {
      "cell_type": "code",
      "source": [
        "print(jnp.matmul(gaL,H))\n",
        "\n",
        "see = jnp.matmul(z,zz)\n",
        "print(\"\\nSee the magic now:\\n\\n\",see)\n",
        "\n",
        "# see.at[]"
      ],
      "metadata": {
        "colab": {
          "base_uri": "https://localhost:8080/"
        },
        "id": "W2goD_qrTP17",
        "outputId": "8013a567-96f2-4990-ecf7-ab0445c723fd"
      },
      "execution_count": null,
      "outputs": [
        {
          "output_type": "stream",
          "name": "stdout",
          "text": [
            "[[0.      0.00025]\n",
            " [0.      0.     ]]\n",
            "\n",
            "See the magic now:\n",
            "\n",
            " [[[0.      0.00025]\n",
            "  [0.      0.     ]]\n",
            "\n",
            " [[0.      0.00025]\n",
            "  [0.      0.     ]]\n",
            "\n",
            " [[0.      0.00025]\n",
            "  [0.      0.     ]]\n",
            "\n",
            " [[0.      0.00025]\n",
            "  [0.      0.     ]]\n",
            "\n",
            " [[0.      0.00025]\n",
            "  [0.      0.     ]]]\n"
          ]
        }
      ]
    },
    {
      "cell_type": "code",
      "source": [
        "# Retarded and advanced Green's functions \n",
        "def green (eps, input_params):  # input_params = [H, gaL, gaR, mode] and \"retarded\" by default\n",
        "    H_s = input_params[0]\n",
        "    Gamma_L = input_params[1]\n",
        "    Gamma_R = input_params[2]\n",
        "    mode = input_params[3]\n",
        "\n",
        "    Hamiltonian = (eps*(jnp.identity(2))) - H_s  # Hamiltonian = e*I - H; is 2x2 matrix\n",
        "    NSelf = 0.5j*(Gamma_L + Gamma_R) # Negative of self energy\n",
        "\n",
        "    # return: resultant = (Hamiltonian + NSelf)^(-1)\n",
        "    res = jnp.linalg.inv(Hamiltonian + NSelf)\n",
        "\n",
        "    if (mode == \"r\"): # retarded green's function\n",
        "        return res\n",
        "    elif (mode == \"a\"): # advanced green's function\n",
        "        res_prime = jnp.transpose(jnp.conjugate(res)) \n",
        "        return res_prime # Hermitian conjugate of Retarded Green's function\n",
        "\n",
        "v_Green = vmap(green, (0, None))"
      ],
      "metadata": {
        "id": "GJOFC31KzGQi"
      },
      "execution_count": null,
      "outputs": []
    },
    {
      "cell_type": "code",
      "source": [
        "my_input = [H, gaL, gaR, \"r\"] \n",
        "\n",
        "G1 = green(1., my_input)\n",
        "# G2 = green(0.6, my_input, mode=\"r\")\n",
        "# G3 = green(1., my_input, mode=\"a\")\n",
        "\n",
        "print(G1)\n",
        "# # print(G2)\n",
        "# # print(G3)\n",
        "\n",
        "# zz = np.trace(G1)\n",
        "# print(\"\\n\\n\")\n",
        "# print(\"\\n\",type(zz))\n",
        "\n",
        "# zzz = np.trace(np.matmul(gaL,G1))\n",
        "# print(\"\\n\",zzz)\n",
        "\n",
        "test_axis = jnp.linspace(-1.,1.,8) \n",
        "zzzz = v_Green(test_axis, my_input)\n",
        "\n",
        "print(\"\\n\",\"Vectorised green's function is:\\n\\n\",zzzz)\n",
        "\n",
        "print(\"\\n\",jnp.shape(zzzz))\n",
        "\n",
        "first = zzzz.at[:,1,1].get()\n",
        "print(first)\n",
        "print(\"\\n\\n\",5*first)\n",
        "\n"
      ],
      "metadata": {
        "colab": {
          "base_uri": "https://localhost:8080/"
        },
        "id": "SP0L3LbhAymp",
        "outputId": "3fd93d63-5ca1-483a-8e10-8ce07a87cbda"
      },
      "execution_count": null,
      "outputs": [
        {
          "output_type": "stream",
          "name": "stdout",
          "text": [
            "[[0.9994003 -0.02498626j 0.00499076-0.0002497j ]\n",
            " [0.00499076-0.0002497j  0.9994003 -0.02498626j]]\n",
            "\n",
            " Vectorised green's function is:\n",
            "\n",
            " [[[-9.99400297e-01-2.49862559e-02j  4.99075898e-03+2.49700254e-04j]\n",
            "  [ 4.99075898e-03+2.49700254e-04j -9.99400297e-01-2.49862559e-02j]]\n",
            "\n",
            " [[-1.39835520e+00-4.89472227e-02j  9.76453277e-03+6.84389206e-04j]\n",
            "  [ 9.76453277e-03+6.84389206e-04j -1.39835520e+00-4.89472227e-02j]]\n",
            "\n",
            " [[-2.32573165e+00-1.35704491e-01j  2.69494784e-02+3.15527197e-03j]\n",
            "  [ 2.69494784e-02+3.15527197e-03j -2.32573165e+00-1.35704491e-01j]]\n",
            "\n",
            " [[-6.79911487e+00-1.19267697e+00j  2.23809702e-01+8.09103916e-02j]\n",
            "  [ 2.23809702e-01+8.09103916e-02j -6.79911487e+00-1.19267697e+00j]]\n",
            "\n",
            " [[ 6.79911487e+00-1.19267697e+00j  2.23809702e-01-8.09103916e-02j]\n",
            "  [ 2.23809702e-01-8.09103916e-02j  6.79911487e+00-1.19267697e+00j]]\n",
            "\n",
            " [[ 2.32573165e+00-1.35704491e-01j  2.69494784e-02-3.15527197e-03j]\n",
            "  [ 2.69494784e-02-3.15527197e-03j  2.32573165e+00-1.35704491e-01j]]\n",
            "\n",
            " [[ 1.39835520e+00-4.89472227e-02j  9.76453277e-03-6.84389206e-04j]\n",
            "  [ 9.76453277e-03-6.84389206e-04j  1.39835520e+00-4.89472227e-02j]]\n",
            "\n",
            " [[ 9.99400297e-01-2.49862559e-02j  4.99075898e-03-2.49700254e-04j]\n",
            "  [ 4.99075898e-03-2.49700254e-04j  9.99400297e-01-2.49862559e-02j]]]\n",
            "\n",
            " (8, 2, 2)\n",
            "[-0.9994003 -0.02498626j -1.3983552 -0.04894722j -2.32573165-0.13570449j\n",
            " -6.79911487-1.19267697j  6.79911487-1.19267697j  2.32573165-0.13570449j\n",
            "  1.3983552 -0.04894722j  0.9994003 -0.02498626j]\n",
            "\n",
            "\n",
            " [ -4.99700149-0.12493128j  -6.99177599-0.24473611j\n",
            " -11.62865824-0.67852246j -33.99557435-5.96338483j\n",
            "  33.99557435-5.96338483j  11.62865824-0.67852246j\n",
            "   6.99177599-0.24473611j   4.99700149-0.12493128j]\n"
          ]
        }
      ]
    },
    {
      "cell_type": "code",
      "source": [
        "x, y = 1, 2\n",
        "y"
      ],
      "metadata": {
        "colab": {
          "base_uri": "https://localhost:8080/"
        },
        "id": "6xRPAiJ8_GbG",
        "outputId": "a92513d3-b487-4c48-a810-9bdeb7f7dbb6"
      },
      "execution_count": null,
      "outputs": [
        {
          "output_type": "execute_result",
          "data": {
            "text/plain": [
              "2"
            ]
          },
          "metadata": {},
          "execution_count": 12
        }
      ]
    },
    {
      "cell_type": "code",
      "source": [
        "@jit\n",
        "def ro (params2, element): # (mu_L, mu_R, gamma_L, gamma_R, beta_L, beta_R, eps_L, eps_R, omega)\n",
        "    # \"element\" is the tuple input for the matrix element\n",
        "    # \"element\" must be one of these: [(0,0),(0,1),(1,0),(1,1)]\n",
        "    e_axis = jnp.linspace(-INFTY, INFTY, integration_pts) # energy axis\n",
        "\n",
        "    # fetching parameters\n",
        "    eps_L = params2[6]\n",
        "    eps_R = params2[7]\n",
        "    omega = params2[8]\n",
        "    gamma_L = params2[2]\n",
        "    gamma_R = params2[3]\n",
        "\n",
        "    f_params_L = (params2[0], params2[4])\n",
        "    f_params_R = (params2[1], params2[5])\n",
        "    fL = f_FD(e_axis,f_params_L) # fermi-dirac for the left bath\n",
        "    fR = f_FD(e_axis,f_params_R) # # fermi-dirac for the right bath\n",
        "    \n",
        "    # Building-up the Hamiltonian\n",
        "    H  = jnp.zeros((2,2))\n",
        "    H = H.at[0,0].set(eps_L)\n",
        "    H = H.at[1,1].set(eps_R)\n",
        "    H = H.at[0,1].set(omega)\n",
        "    H = H.at[1,0].set(omega)\n",
        "\n",
        "    # Gamma matrices\n",
        "    gaL = jnp.zeros((2,2))\n",
        "    gaL = gaL.at[0,0].set(gamma_L)\n",
        "    gaL_prime = jnp.reshape(gaL,(1,2,2)) \n",
        "    gaL_prime = jnp.repeat(gaL_prime, integration_pts, axis=0) \n",
        "    # gaL_prime = Vectorized gamma_L\n",
        "\n",
        "    gaR = jnp.zeros((2,2))\n",
        "    gaR = gaR.at[1,1].set(gamma_R)\n",
        "    gaR_prime = jnp.reshape(gaR,(1,2,2)) \n",
        "    gaR_prime = jnp.repeat(gaR_prime, integration_pts, axis=0) \n",
        "    # gaR_prime = Vectorized gamma_R\n",
        "\n",
        "    # Green's functions\n",
        "    G_params_r = [H, gaL, gaR, \"r\"] # retarded\n",
        "    v_green_r = v_Green(e_axis, G_params_r)\n",
        "\n",
        "    G_params_a = [H, gaL, gaR, \"a\"] # advanced\n",
        "    v_green_a = v_Green(e_axis, G_params_a)\n",
        "\n",
        "    # Integrand terms\n",
        "    temp_L = jnp.matmul(gaL_prime,v_green_a) \n",
        "    box_L = jnp.matmul(v_green_r,temp_L)\n",
        "\n",
        "    temp_R = jnp.matmul(gaR_prime,v_green_a) \n",
        "    box_R = jnp.matmul(v_green_r,temp_R)\n",
        "\n",
        "    # Yanking the (i,j)th element from the vectorized boxes\n",
        "    i, j = element[0], element[1]\n",
        "    terms_L = box_L.at[:,i,j].get() # shape = (integration_pts,)\n",
        "    terms_R = box_R.at[:,i,j].get() # # shape = (integration_pts,)\n",
        "\n",
        "    res = jnp.sum(\n",
        "        ((terms_L)*(fL)) + ((terms_R)*(fR))\n",
        "    )*((e_axis[1]-e_axis[0])/(2.*jnp.pi))\n",
        "\n",
        "    return res"
      ],
      "metadata": {
        "id": "olRvjcvGFCFV"
      },
      "execution_count": null,
      "outputs": []
    },
    {
      "cell_type": "code",
      "source": [
        "@jit\n",
        "def eigenenergy (full_ro, H_s):\n",
        "    (w,v) = jnp.linalg.eigh(H_s) # Fetching the eigenfunctions and eigenvalues\n",
        "\n",
        "    V1 = jnp.zeros((2,2)) # is V\n",
        "    V2 = jnp.zeros((2,2)) # is V-dagger\n",
        "\n",
        "    V1 = v\n",
        "    V2 = jnp.transpose(jnp.conjugate(V1)) # Hermitian conjugate of V1\n",
        "\n",
        "    tilda = jnp.matmul(full_ro,V1)\n",
        "    res = jnp.matmul(V2,tilda) \n",
        "\n",
        "    return res "
      ],
      "metadata": {
        "id": "1nmT7PrHrgBp"
      },
      "execution_count": null,
      "outputs": []
    },
    {
      "cell_type": "code",
      "source": [
        "@jit\n",
        "def j_c_pow4_2(params2): # (mu_L, mu_R, gamma_L, gamma_R, beta_L, beta_R, eps_L, eps_R, omega)\n",
        "    e_axis = jnp.linspace(-INFTY, INFTY, integration_pts)\n",
        "    f_params_L = (params2[0], params2[4])\n",
        "    f_params_R = (params2[1], params2[5])\n",
        "    T2_params = (params2[2], params2[3], params2[6], params2[7], params2[8]) \n",
        "\n",
        "    T2 = v_T2(e_axis,T2_params)\n",
        "    fL = f_FD(e_axis,f_params_L)\n",
        "    fR = f_FD(e_axis,f_params_R) \n",
        "\n",
        "    A = fL - fR\n",
        "    B = fL + fR - 2*fL*fR\n",
        "\n",
        "    terms = T2*B - 3*(T2**2)*(B**2) - 4*(T2**2)*(A**2) + \\\n",
        "            12*(T2**3)*((A**2)*(B)) - 6*(T2**4)*(A**4) \n",
        "\n",
        "    res = jnp.sum(terms)*(e_axis[1]-e_axis[0])/(2.*jnp.pi)\n",
        "    return res"
      ],
      "metadata": {
        "id": "GdemlGAlFBnI"
      },
      "execution_count": null,
      "outputs": []
    },
    {
      "cell_type": "code",
      "source": [
        "I = np.eye(2)\n",
        "J = np.random.rand(2,2)\n",
        "K = 3*I\n",
        "\n",
        "K[0][0] = 1.\n",
        "K[0][1] = 2.\n",
        "K[1][0] = 4.\n",
        "K[1][1] = 3.\n",
        "\n",
        "M = 1j*K\n",
        "print(K)\n",
        "print(\"\\n\\n\",(jnp.matmul((1j*(jnp.identity(2))),K)))\n",
        "print(\"\\n\",\"M is\\n\\n\", M)\n",
        "print(\"\\n\\n\",np.matrix(M).H)\n",
        "\n",
        "\n",
        "A = jnp.zeros((2,2))\n",
        "A = A.at[0,0].set(1.)\n",
        "A = A.at[0,1].set(2.)\n",
        "A = A.at[1,0].set(4.)\n",
        "A = A.at[1,1].set(3.)\n",
        "A = 1j*A\n",
        "print(\"\\nOver here:\\n\\n\",A)\n",
        "print(\"\\nconjugate becomes\\n\\n\",jnp.transpose(jnp.conjugate(A)))"
      ],
      "metadata": {
        "colab": {
          "base_uri": "https://localhost:8080/"
        },
        "id": "z3JOq4GzsHR5",
        "outputId": "f71cc51c-4834-46ed-af30-c8f09acfe01d"
      },
      "execution_count": null,
      "outputs": [
        {
          "output_type": "stream",
          "name": "stdout",
          "text": [
            "[[1. 2.]\n",
            " [4. 3.]]\n",
            "\n",
            "\n",
            " [[0.+1.j 0.+2.j]\n",
            " [0.+4.j 0.+3.j]]\n",
            "\n",
            " M is\n",
            "\n",
            " [[0.+1.j 0.+2.j]\n",
            " [0.+4.j 0.+3.j]]\n",
            "\n",
            "\n",
            " [[0.-1.j 0.-4.j]\n",
            " [0.-2.j 0.-3.j]]\n",
            "\n",
            "Over here:\n",
            "\n",
            " [[0.+1.j 0.+2.j]\n",
            " [0.+4.j 0.+3.j]]\n",
            "\n",
            "conjugate becomes\n",
            "\n",
            " [[0.-1.j 0.-4.j]\n",
            " [0.-2.j 0.-3.j]]\n"
          ]
        }
      ]
    },
    {
      "cell_type": "code",
      "source": [
        "my_params = [0.1,\n",
        "             0.,\n",
        "             0.5,\n",
        "             0.5,\n",
        "             1.01,\n",
        "             1.0,\n",
        "             0.2,\n",
        "             0.,\n",
        "             0.05] # (mu_L, mu_R, gamma_L, gamma_R, beta_L, beta_R, eps_L, eps_R, omega)\n",
        "      \n",
        "my_elem = (0,1)\n",
        "answer = ro (my_params, my_elem) \n",
        "\n",
        "den_mat = jnp.asarray([[ro (my_params, (0,0)),ro (my_params, (0,1))],[ro (my_params, (1,0)),ro (my_params, (1,1))]])\n",
        "\n",
        "print(\"\\nThe\",my_elem,\"element of the density matrix is:\\n\\n\",answer)\n",
        "print(\"\\nThe density matrix is:\\n\\n\",den_mat) "
      ],
      "metadata": {
        "colab": {
          "base_uri": "https://localhost:8080/"
        },
        "id": "CAzAPQtKsIHk",
        "outputId": "b54aa5dc-4aab-4396-933a-93f8f4b356ee"
      },
      "execution_count": null,
      "outputs": [
        {
          "output_type": "stream",
          "name": "stdout",
          "text": [
            "\n",
            "The (0, 1) element of the density matrix is:\n",
            "\n",
            " (-0.010187043424194783+0.0020498131097970787j)\n",
            "\n",
            "The density matrix is:\n",
            "\n",
            " [[ 0.47666233+0.j         -0.01018704+0.00204981j]\n",
            " [-0.01018704-0.00204981j  0.49962186+0.j        ]]\n"
          ]
        }
      ]
    },
    {
      "cell_type": "code",
      "source": [
        "H_test = jnp.zeros((2,2))\n",
        "H_test = H_test.at[0,0].set(my_params[6])\n",
        "H_test = H_test.at[1,1].set(my_params[7])\n",
        "H_test = H_test.at[0,1].set(my_params[8])\n",
        "H_test = H_test.at[1,0].set(my_params[8])\n",
        "\n",
        "ro_tilda = eigenenergy(den_mat, H_test)\n",
        "\n",
        "print(\"\\nThe density matrix in the energy basis is:\\n\\n\",ro_tilda) "
      ],
      "metadata": {
        "colab": {
          "base_uri": "https://localhost:8080/"
        },
        "id": "O1IQ3AZ0sxPj",
        "outputId": "5a3d45a5-0162-41fb-f9fd-47da47bfed5c"
      },
      "execution_count": null,
      "outputs": [
        {
          "output_type": "stream",
          "name": "stdout",
          "text": [
            "\n",
            "The density matrix in the energy basis is:\n",
            "\n",
            " [[ 0.50296569+0.j         -0.00397766-0.00204981j]\n",
            " [-0.00397766+0.00204981j  0.4733185 +0.j        ]]\n"
          ]
        }
      ]
    },
    {
      "cell_type": "code",
      "source": [
        "@jit \n",
        "def commutator (A,B):\n",
        "    forward = jnp.matmul(A,B)\n",
        "    backward = jnp.matmul(B,A)\n",
        "\n",
        "    res = forward - backward\n",
        "    return res"
      ],
      "metadata": {
        "id": "mKVz1qzv1OW2"
      },
      "execution_count": null,
      "outputs": []
    },
    {
      "cell_type": "code",
      "source": [
        "w"
      ],
      "metadata": {
        "colab": {
          "base_uri": "https://localhost:8080/"
        },
        "id": "hb5sR_-Z3GhV",
        "outputId": "05abed77-f077-4bc7-88a1-9c5490a9ac07"
      },
      "execution_count": null,
      "outputs": [
        {
          "output_type": "execute_result",
          "data": {
            "text/plain": [
              "DeviceArray([-0.0118034,  0.2118034], dtype=float64)"
            ]
          },
          "metadata": {},
          "execution_count": 61
        }
      ]
    },
    {
      "cell_type": "code",
      "source": [
        "eq = commutator (den_mat, H_test)\n",
        "print(\"The commutator of H and ro is:\\n\\n\",eq)\n",
        "\n",
        "H_tilda = jnp.zeros((2,2))\n",
        "H_tilda = H_tilda.at[0,0].set(w[0])\n",
        "H_tilda = H_tilda.at[1,1].set(w[1])\n",
        "H_tilda = H_tilda.at[0,1].set(0.)\n",
        "H_tilda = H_tilda.at[1,0].set(0.)\n",
        "\n",
        "eq2 = commutator (ro_tilda, H_tilda)\n",
        "print(\"\\nThe commutator of H-tilda and ro-tilda is:\\n\\n\",eq2)"
      ],
      "metadata": {
        "colab": {
          "base_uri": "https://localhost:8080/"
        },
        "id": "kWQ9HTT0uwLy",
        "outputId": "52f9a70c-ffc8-4123-d731-4eaa3bd48cb0"
      },
      "execution_count": null,
      "outputs": [
        {
          "output_type": "stream",
          "name": "stdout",
          "text": [
            "The commutator of H and ro is:\n",
            "\n",
            " [[ 0.        +0.00020498j  0.00088943-0.00040996j]\n",
            " [-0.00088943-0.00040996j  0.        -0.00020498j]]\n",
            "\n",
            "The commutator of H-tilda and ro-tilda is:\n",
            "\n",
            " [[ 0.        +0.j         -0.00088943-0.00045835j]\n",
            " [ 0.00088943-0.00045835j  0.        +0.j        ]]\n"
          ]
        }
      ]
    },
    {
      "cell_type": "code",
      "source": [
        "print(jnp.real(answer))\n",
        "print(jnp.imag(answer))\n",
        "\n",
        "print(\"\\nThe trace is:\\n\\n\",jnp.trace(den_mat)) "
      ],
      "metadata": {
        "colab": {
          "base_uri": "https://localhost:8080/"
        },
        "id": "JWAlwveaoyEC",
        "outputId": "b03324bc-eefc-4314-9b36-b1d788147681"
      },
      "execution_count": null,
      "outputs": [
        {
          "output_type": "stream",
          "name": "stdout",
          "text": [
            "-0.010187043424194783\n",
            "0.0020498131097970787\n",
            "\n",
            "The trace is:\n",
            "\n",
            " (0.9762841864559184+0j)\n"
          ]
        }
      ]
    },
    {
      "cell_type": "code",
      "source": [
        "x = [0,1,2,3,4,5,6]\n",
        "y = [1 + 1j, 1 + 10j, 0. + 10j, -2 - 3.2j, 0.2 - 5j, 1.5 + 2.5j, 2 + 3j]\n",
        "\n",
        "print(jnp.real(jnp.asarray(y)))\n",
        "print(jnp.imag(jnp.asarray(y)))\n",
        "\n",
        "plt.clf()\n",
        "plt.plot(x,y)\n",
        "plt.plot(x,jnp.imag(jnp.asarray(y)))\n",
        "plt.show()"
      ],
      "metadata": {
        "colab": {
          "base_uri": "https://localhost:8080/",
          "height": 336
        },
        "id": "iUzSITBD9XTB",
        "outputId": "38c7b706-b84b-4322-d6a7-bc2e2a886623"
      },
      "execution_count": null,
      "outputs": [
        {
          "output_type": "stream",
          "name": "stdout",
          "text": [
            "[ 1.   1.   0.  -2.   0.2  1.5  2. ]\n",
            "[ 1.  10.  10.  -3.2 -5.   2.5  3. ]\n"
          ]
        },
        {
          "output_type": "stream",
          "name": "stderr",
          "text": [
            "/usr/local/lib/python3.7/dist-packages/matplotlib/cbook/__init__.py:1317: ComplexWarning: Casting complex values to real discards the imaginary part\n",
            "  return np.asarray(x, float)\n"
          ]
        },
        {
          "output_type": "display_data",
          "data": {
            "text/plain": [
              "<Figure size 432x288 with 1 Axes>"
            ],
            "image/png": "[encoded data removed]"
          },
          "metadata": {
            "needs_background": "light"
          }
        }
      ]
    },
    {
      "cell_type": "code",
      "source": [
        "# Transmission check\n",
        "def tau (eps, params):\n",
        "    # (mu_L, mu_R, gamma_L, gamma_R, beta_L, beta_R, eps_L, eps_R, omega)\n",
        "    # fetching parameters\n",
        "    eps_L = params[6]\n",
        "    eps_R = params[7]\n",
        "    omega = params[8]\n",
        "    gamma_L = params[2]\n",
        "    gamma_R = params[3]\n",
        "\n",
        "    # Building-up the Hamiltonian\n",
        "    H  = jnp.zeros((2,2))\n",
        "    H = H.at[0,0].set(eps_L)\n",
        "    H = H.at[1,1].set(eps_R)\n",
        "    H = H.at[0,1].set(omega)\n",
        "    H = H.at[1,0].set(omega)\n",
        "\n",
        "    # Gamma matrices\n",
        "    gaL = jnp.zeros((2,2))\n",
        "    gaL = gaL.at[0,0].set(gamma_L)\n",
        "\n",
        "    gaR = jnp.zeros((2,2))\n",
        "    gaR = gaR.at[1,1].set(gamma_R)\n",
        "\n",
        "    # Green's functions\n",
        "    G_params_r = [H, gaL, gaR, \"r\"] # retarded\n",
        "    green_r = green(eps, G_params_r)\n",
        "\n",
        "    G_params_a = [H, gaL, gaR, \"a\"] # advanced\n",
        "    green_a = green(eps, G_params_a)\n",
        "\n",
        "    # Terms\n",
        "    terms_L = jnp.matmul(gaL, green_r)\n",
        "    terms_R = jnp.matmul(gaR, green_a)\n",
        "\n",
        "    temp = jnp.matmul(terms_L, terms_R) \n",
        "    res = jnp.trace(temp)\n",
        "\n",
        "    return res\n",
        "\n",
        "v_tau = vmap(tau,(0,None))"
      ],
      "metadata": {
        "id": "DJ6IPclH-VXE"
      },
      "execution_count": null,
      "outputs": []
    },
    {
      "cell_type": "code",
      "source": [
        "et_axis = jnp.linspace(-100,100,20001)\n",
        "my_tau_params = [0.01,\n",
        "                 0.,\n",
        "                 5.,\n",
        "                 5.,\n",
        "                 1.01,\n",
        "                 1.0,\n",
        "                 0.,\n",
        "                 0.,\n",
        "                 10] # (mu_L, mu_R, gamma_L, gamma_R, beta_L, beta_R, eps_L, eps_R, omega)\n",
        "tau_out = v_tau(et_axis, my_tau_params) \n",
        "print(tau_out.shape)"
      ],
      "metadata": {
        "colab": {
          "base_uri": "https://localhost:8080/"
        },
        "id": "Heh6zHdSGZYM",
        "outputId": "0382a49a-a030-46c2-a2d7-4278f0c2f53f"
      },
      "execution_count": null,
      "outputs": [
        {
          "output_type": "stream",
          "name": "stdout",
          "text": [
            "(20001,)\n"
          ]
        }
      ]
    },
    {
      "cell_type": "code",
      "source": [
        "fig, ax = plt.subplots(figsize=(12,8))\n",
        "\n",
        "ax.plot(et_axis,tau_out)\n",
        "ax.set_title(\"Double Dot\",fontsize=18)\n",
        "ax.set_ylabel(r'$\\tau (\\epsilon)$',fontsize=16)\n",
        "ax.set_xlabel(r'$\\epsilon$',fontsize=16)\n",
        "# plt.savefig(\"Lorentzian_DD.png\",dpi=500)\n",
        "plt.show()"
      ],
      "metadata": {
        "colab": {
          "base_uri": "https://localhost:8080/",
          "height": 558
        },
        "id": "9G2et3jeHP_7",
        "outputId": "0fa5b5b4-c318-41c1-b9b1-7dd81a42937d"
      },
      "execution_count": null,
      "outputs": [
        {
          "output_type": "stream",
          "name": "stderr",
          "text": [
            "/usr/local/lib/python3.7/dist-packages/matplotlib/cbook/__init__.py:1317: ComplexWarning: Casting complex values to real discards the imaginary part\n",
            "  return np.asarray(x, float)\n"
          ]
        },
        {
          "output_type": "display_data",
          "data": {
            "text/plain": [
              "<Figure size 864x576 with 1 Axes>"
            ],
            "image/png": "[encoded data removed]"
          },
          "metadata": {
            "needs_background": "light"
          }
        }
      ]
    }
  ]
}