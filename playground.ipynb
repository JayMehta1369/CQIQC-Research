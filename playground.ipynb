{
  "nbformat": 4,
  "nbformat_minor": 0,
  "metadata": {
    "colab": {
      "provenance": []
    },
    "kernelspec": {
      "name": "python3",
      "display_name": "Python 3"
    },
    "language_info": {
      "name": "python"
    }
  },
  "cells": [
    {
      "cell_type": "code",
      "execution_count": null,
      "metadata": {
        "id": "9JJ088jovzr4"
      },
      "outputs": [],
      "source": [
        "import jax\n",
        "from jax.config import config\n",
        "config.update(\"jax_enable_x64\", True)\n",
        "\n",
        "import jax.numpy as jnp\n",
        "from jax.experimental.ode import odeint\n",
        "from jax import value_and_grad\n",
        "from jax.experimental import optimizers\n",
        "from jax import jit, vmap\n",
        "\n",
        "import numpy as np\n",
        "import matplotlib.pyplot as plt\n",
        "from scipy.integrate import solve_ivp\n",
        "\n",
        "import sys, getopt\n",
        "\n",
        "# general \n",
        "INFTY = 200\n",
        "integration_pts = 100001"
      ]
    },
    {
      "cell_type": "code",
      "source": [
        "@jit\n",
        "def f_FD(eps,f_params): # (mu, beta)\n",
        "    # Fermi-Dirac \n",
        "    mu = f_params[0]\n",
        "    beta = f_params[1]\n",
        "    \n",
        "    return (1 + jnp.exp(beta*(eps-mu)))**-1\n",
        "\n",
        "@jit\n",
        "def T2(eps,T2_params): # T2_params: [gamma_L, gamma_R, eps_L, eps_R, omega] (reasonably, [0.05,0.05,0.,0.,0.005])\n",
        "    # Transmission function of the serial double dot model\n",
        "    gamma_L = T2_params[0]\n",
        "    gamma_R = T2_params[1]\n",
        "    eps_L = T2_params[2]\n",
        "    eps_R = T2_params[3]\n",
        "    omega = T2_params[4]\n",
        "    a = eps - eps_L\n",
        "    b = gamma_L/2\n",
        "    c = eps - eps_R\n",
        "    d = gamma_R/2\n",
        "\n",
        "    return (((gamma_L)*(gamma_R)*(omega**2))/(((a*c - b*d - (omega**2))**2) + ((a*d + b*c)**2))) \n",
        "\n",
        "# vectorized versions\n",
        "v_f_FD = vmap(f_FD,(0,None))\n",
        "v_T2 = vmap(T2,(0,None)) "
      ],
      "metadata": {
        "id": "Dx57JCfyv4pI"
      },
      "execution_count": null,
      "outputs": []
    },
    {
      "cell_type": "code",
      "source": [
        "# Retarded and advanced Green's functions (f(eps)) using Dyson equation\n",
        "def green (eps, input_params):  # input_params = [H, gaL, gaR, mode] and \"retarded\" by default\n",
        "    H_s = input_params[0]\n",
        "    Gamma_L = input_params[1]\n",
        "    Gamma_R = input_params[2]\n",
        "    mode = input_params[3]\n",
        "\n",
        "    Hamiltonian = (eps*(jnp.identity(2))) - H_s  # Hamiltonian = e*I - H; is 2x2 matrix\n",
        "    NSelf = 0.5j*(Gamma_L + Gamma_R) # Negative of self energy\n",
        "\n",
        "    # return: resultant = (Hamiltonian + NSelf)^(-1)\n",
        "    res = jnp.linalg.inv(Hamiltonian + NSelf)\n",
        "\n",
        "    if (mode == \"r\"): # retarded green's function\n",
        "        return res\n",
        "    elif (mode == \"a\"): # advanced green's function\n",
        "        res_prime = jnp.transpose(jnp.conjugate(res)) \n",
        "        return res_prime # Hermitian conjugate of Retarded Green's function\n",
        "\n",
        "# vectorized Green's function over the energy axis\n",
        "v_Green = vmap(green, (0, None))"
      ],
      "metadata": {
        "id": "AbPUPLndwEo0"
      },
      "execution_count": null,
      "outputs": []
    },
    {
      "cell_type": "code",
      "source": [
        "@jit\n",
        "def ro (params2, element): \n",
        "    # params2: (mu_L, mu_R, gamma_L, gamma_R, beta_L, beta_R, eps_L, eps_R, omega)\n",
        "    # \"element\" is the tuple input for the matrix element\n",
        "    # \"element\" must be one of these: [(0,0),(0,1),(1,0),(1,1)]\n",
        "    e_axis = jnp.linspace(-INFTY, INFTY, integration_pts) # energy axis\n",
        "\n",
        "    # fetching parameters\n",
        "    eps_L = params2[6]\n",
        "    eps_R = params2[7]\n",
        "    omega = params2[8]\n",
        "    gamma_L = params2[2]\n",
        "    gamma_R = params2[3]\n",
        "\n",
        "    f_params_L = (params2[0], params2[4])\n",
        "    f_params_R = (params2[1], params2[5])\n",
        "    fL = f_FD(e_axis,f_params_L) # fermi-dirac for the left bath\n",
        "    fR = f_FD(e_axis,f_params_R) # # fermi-dirac for the right bath\n",
        "    \n",
        "    # Building-up the Hamiltonian\n",
        "    H = jnp.zeros((2,2))\n",
        "    H = H.at[0,0].set(eps_L)\n",
        "    H = H.at[1,1].set(eps_R)\n",
        "    H = H.at[0,1].set(omega)\n",
        "    H = H.at[1,0].set(omega)\n",
        "\n",
        "    # Gamma matrices\n",
        "    gaL = jnp.zeros((2,2))\n",
        "    gaL = gaL.at[0,0].set(gamma_L)\n",
        "    gaL_prime = jnp.reshape(gaL,(1,2,2)) \n",
        "    gaL_prime = jnp.repeat(gaL_prime, integration_pts, axis=0) \n",
        "    # gaL_prime = Vectorized gamma_L\n",
        "\n",
        "    gaR = jnp.zeros((2,2))\n",
        "    gaR = gaR.at[1,1].set(gamma_R)\n",
        "    gaR_prime = jnp.reshape(gaR,(1,2,2)) \n",
        "    gaR_prime = jnp.repeat(gaR_prime, integration_pts, axis=0) \n",
        "    # gaR_prime = Vectorized gamma_R\n",
        "\n",
        "    # evaluating Green's functions\n",
        "    G_params_r = [H, gaL, gaR, \"r\"] # retarded\n",
        "    v_green_r = v_Green(e_axis, G_params_r)\n",
        "\n",
        "    G_params_a = [H, gaL, gaR, \"a\"] # advanced\n",
        "    v_green_a = v_Green(e_axis, G_params_a)\n",
        "\n",
        "    # Integrand terms\n",
        "    temp_L = jnp.matmul(gaL_prime,v_green_a) \n",
        "    box_L = jnp.matmul(v_green_r,temp_L)\n",
        "\n",
        "    temp_R = jnp.matmul(gaR_prime,v_green_a) \n",
        "    box_R = jnp.matmul(v_green_r,temp_R)\n",
        "\n",
        "    # Yanking the (i,j)th element from the vectorized boxes\n",
        "    i, j = element[0], element[1]\n",
        "    terms_L = box_L.at[:,i,j].get() # shape = (integration_pts,)\n",
        "    terms_R = box_R.at[:,i,j].get() # # shape = (integration_pts,)\n",
        "\n",
        "    res = jnp.sum(\n",
        "        ((terms_L)*(fL)) + ((terms_R)*(fR))\n",
        "    )*((e_axis[1]-e_axis[0])/(2.*jnp.pi))\n",
        "\n",
        "    return res"
      ],
      "metadata": {
        "id": "ZKEuuifrv-B9"
      },
      "execution_count": null,
      "outputs": []
    },
    {
      "cell_type": "code",
      "source": [
        "my_params = [0.01,\n",
        "             0.,\n",
        "             0.5,\n",
        "             0.5,\n",
        "             1.01,\n",
        "             1.0,\n",
        "             0.,\n",
        "             0.,\n",
        "             0.005] # (mu_L, mu_R, gamma_L, gamma_R, beta_L, beta_R, eps_L, eps_R, omega)\n",
        "my_elem = (0,1)\n",
        "answer = ro (my_params, my_elem) \n",
        "\n",
        "den_mat = jnp.asarray([[ro (my_params, (0,0)),ro (my_params, (0,1))],[ro (my_params, (1,0)),ro (my_params, (1,1))]])\n",
        "\n",
        "print(\"\\nThe\",my_elem,\"element of the density matrix is:\\n\\n\",answer)\n",
        "print(\"\\nThe density matrix in the local basis is:\\n\\n\",den_mat) \n",
        "print(\"\\nThe trace is:\\n\\n\",jnp.trace(den_mat)) "
      ],
      "metadata": {
        "colab": {
          "base_uri": "https://localhost:8080/"
        },
        "id": "7a75xqEfxsl4",
        "outputId": "5aacc2b1-3824-486e-d990-d5b315353c39"
      },
      "execution_count": null,
      "outputs": [
        {
          "output_type": "stream",
          "name": "stdout",
          "text": [
            "\n",
            "The (0, 1) element of the density matrix is:\n",
            "\n",
            " (-0.0011028351310698624+2.4911279842936648e-05j)\n",
            "\n",
            "The density matrix in the local basis is:\n",
            "\n",
            " [[ 0.50181692+0.00000000e+00j -0.00110284+2.49112798e-05j]\n",
            " [-0.00110284-2.49112798e-05j  0.49960262+0.00000000e+00j]]\n",
            "\n",
            "The trace is:\n",
            "\n",
            " (1.001419532395778+0j)\n"
          ]
        }
      ]
    },
    {
      "cell_type": "code",
      "source": [],
      "metadata": {
        "id": "_DM4yoGvgn8i"
      },
      "execution_count": null,
      "outputs": []
    },
    {
      "cell_type": "code",
      "source": [
        "@jit\n",
        "def eigenenergy (full_ro, H_s):\n",
        "    (w,v) = jnp.linalg.eigh(H_s) # Fetching the eigenfunctions and eigenvalues\n",
        "\n",
        "    V1 = jnp.zeros((2,2)) # is V\n",
        "    V2 = jnp.zeros((2,2)) # is V-dagger\n",
        "\n",
        "    V1 = v\n",
        "    V2 = jnp.transpose(jnp.conjugate(V1)) # Hermitian conjugate of V1\n",
        "\n",
        "    tilda = jnp.matmul(full_ro,V1)\n",
        "    res = jnp.matmul(V2,tilda) \n",
        "\n",
        "    return res "
      ],
      "metadata": {
        "id": "ZwtZ-tYGlDMF"
      },
      "execution_count": null,
      "outputs": []
    },
    {
      "cell_type": "code",
      "source": [
        "H_test = jnp.zeros((2,2))\n",
        "H_test = H_test.at[0,0].set(my_params[6])\n",
        "H_test = H_test.at[1,1].set(my_params[7])\n",
        "H_test = H_test.at[0,1].set(my_params[8])\n",
        "H_test = H_test.at[1,0].set(my_params[8])\n",
        "\n",
        "ro_tilda = eigenenergy(den_mat, H_test) \n",
        "\n",
        "print(\"\\nThe density matrix in the energy basis is:\\n\\n\",ro_tilda) "
      ],
      "metadata": {
        "colab": {
          "base_uri": "https://localhost:8080/"
        },
        "id": "Y1cT8Mletcgy",
        "outputId": "def28be4-dff7-4d53-babe-e13b31842a13"
      },
      "execution_count": null,
      "outputs": [
        {
          "output_type": "stream",
          "name": "stdout",
          "text": [
            "\n",
            "The density matrix in the energy basis is:\n",
            "\n",
            " [[ 0.5018126 +0.00000000e+00j -0.00110715-2.49112798e-05j]\n",
            " [-0.00110715+2.49112798e-05j  0.49960693+0.00000000e+00j]]\n"
          ]
        }
      ]
    },
    {
      "cell_type": "code",
      "source": [
        "# Checking whether the state of the system is in equilibrium w the bath\n",
        "@jit \n",
        "def commutator (A,B):\n",
        "    forward = jnp.matmul(A,B)\n",
        "    backward = jnp.matmul(B,A)\n",
        "\n",
        "    res = forward - backward\n",
        "    return res\n",
        "\n",
        "eq = commutator (den_mat, H_test)\n",
        "print(\"The commutator of H and ro is:\\n\\n\",eq)\n",
        "\n",
        "# In the case of an equilibrium state the distribution is time-independent and p commutes with H. "
      ],
      "metadata": {
        "colab": {
          "base_uri": "https://localhost:8080/"
        },
        "id": "V4NzqR_x3nwi",
        "outputId": "3d9cd126-8934-4643-9d16-ecd58adc36a5"
      },
      "execution_count": null,
      "outputs": [
        {
          "output_type": "stream",
          "name": "stdout",
          "text": [
            "The commutator of H and ro is:\n",
            "\n",
            " [[ 0.00000000e+00+2.49112798e-07j  1.10715115e-05+0.00000000e+00j]\n",
            " [-1.10715115e-05+0.00000000e+00j  0.00000000e+00-2.49112798e-07j]]\n"
          ]
        }
      ]
    },
    {
      "cell_type": "code",
      "source": [
        "# Transmission check\n",
        "def tau (eps, params):\n",
        "    # (mu_L, mu_R, gamma_L, gamma_R, beta_L, beta_R, eps_L, eps_R, omega)\n",
        "    # fetching parameters \n",
        "    eps_L = params[6]\n",
        "    eps_R = params[7]\n",
        "    omega = params[8]\n",
        "    gamma_L = params[2]\n",
        "    gamma_R = params[3]\n",
        "\n",
        "    # Building-up the Hamiltonian\n",
        "    H  = jnp.zeros((2,2))\n",
        "    H = H.at[0,0].set(eps_L)\n",
        "    H = H.at[1,1].set(eps_R)\n",
        "    H = H.at[0,1].set(omega)\n",
        "    H = H.at[1,0].set(omega)\n",
        "\n",
        "    # Gamma matrices\n",
        "    gaL = jnp.zeros((2,2))\n",
        "    gaL = gaL.at[0,0].set(gamma_L)\n",
        "\n",
        "    gaR = jnp.zeros((2,2))\n",
        "    gaR = gaR.at[1,1].set(gamma_R)\n",
        "\n",
        "    # Green's functions\n",
        "    G_params_r = [H, gaL, gaR, \"r\"] # retarded\n",
        "    green_r = green(eps, G_params_r)\n",
        "\n",
        "    G_params_a = [H, gaL, gaR, \"a\"] # advanced\n",
        "    green_a = green(eps, G_params_a)\n",
        "\n",
        "    # Terms \n",
        "    terms_L = jnp.matmul(gaL, green_r)\n",
        "    terms_R = jnp.matmul(gaR, green_a)\n",
        "\n",
        "    temp = jnp.matmul(terms_L, terms_R) \n",
        "    res = jnp.trace(temp)\n",
        "\n",
        "    return res\n",
        "\n",
        "v_tau = vmap(tau,(0,None))"
      ],
      "metadata": {
        "id": "SwpQhVaRy8Sy"
      },
      "execution_count": null,
      "outputs": []
    },
    {
      "cell_type": "code",
      "source": [
        "et_axis = jnp.linspace(-100,100,50001)\n",
        "my_tau_params = [0.01,\n",
        "                 0.,\n",
        "                 5.,\n",
        "                 5.,\n",
        "                 1.01,\n",
        "                 1.0,\n",
        "                 0.,\n",
        "                 0.,\n",
        "                 10] # (mu_L, mu_R, gamma_L, gamma_R, beta_L, beta_R, eps_L, eps_R, omega)\n",
        "tau_out = v_tau(et_axis, my_tau_params) \n",
        "print(tau_out.shape)\n",
        "\n",
        "fig, ax = plt.subplots(figsize=(8,6))\n",
        "\n",
        "ax.plot(et_axis,tau_out)\n",
        "ax.set_title(\"\\nUsing the Green's function definition\",fontsize=15)\n",
        "ax.set_ylabel(r'$\\tau (\\epsilon)$',fontsize=16)\n",
        "ax.set_xlabel(r'$\\epsilon$',fontsize=16)\n",
        "# plt.savefig(\"Serial_DD.png\",dpi=500)\n",
        "plt.show()"
      ],
      "metadata": {
        "colab": {
          "base_uri": "https://localhost:8080/",
          "height": 482
        },
        "id": "pfhBVVWGMTH-",
        "outputId": "d2e41da3-763e-4c8e-daa4-1ddbd0f5c238"
      },
      "execution_count": null,
      "outputs": [
        {
          "output_type": "stream",
          "name": "stdout",
          "text": [
            "(50001,)\n"
          ]
        },
        {
          "output_type": "stream",
          "name": "stderr",
          "text": [
            "/usr/local/lib/python3.7/dist-packages/matplotlib/cbook/__init__.py:1317: ComplexWarning: Casting complex values to real discards the imaginary part\n",
            "  return np.asarray(x, float)\n"
          ]
        },
        {
          "output_type": "display_data",
          "data": {
            "text/plain": [
              "<Figure size 576x432 with 1 Axes>"
            ],
            "image/png": "[encoded data removed]"
          },
          "metadata": {
            "needs_background": "light"
          }
        }
      ]
    },
    {
      "cell_type": "code",
      "source": [
        "  "
      ],
      "metadata": {
        "id": "d5FKgx30MZzu"
      },
      "execution_count": null,
      "outputs": []
    }
  ]
}